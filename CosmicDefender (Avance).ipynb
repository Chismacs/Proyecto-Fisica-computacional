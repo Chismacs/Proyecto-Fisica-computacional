{
 "cells": [
  {
   "cell_type": "markdown",
   "id": "f8e6ab28-cc53-4913-85c1-e8a515c001cb",
   "metadata": {},
   "source": [
    "# **PROYECTO**"
   ]
  },
  {
   "cell_type": "markdown",
   "id": "0fc67673-6acf-4e1a-8bf1-9b0a05101576",
   "metadata": {},
   "source": [
    "## COSMIC DEFENDER"
   ]
  },
  {
   "cell_type": "code",
   "execution_count": 1,
   "id": "98354230-baaf-49ab-bbb7-0e331154686c",
   "metadata": {},
   "outputs": [
    {
     "name": "stdout",
     "output_type": "stream",
     "text": [
      "pygame 2.6.1 (SDL 2.28.4, Python 3.12.4)\n",
      "Hello from the pygame community. https://www.pygame.org/contribute.html\n"
     ]
    }
   ],
   "source": [
    "import pygame #Se importa la librería pygame con todas sus funciones.\n",
    "import random #Se importa la librería random para generación de eventos aleatorios.\n",
    "import time"
   ]
  },
  {
   "cell_type": "code",
   "execution_count": 2,
   "id": "8a5df25b-1946-41e9-bc3f-9d6ba241cf94",
   "metadata": {},
   "outputs": [],
   "source": [
    "pygame.init() #Se inicia el constructor de pygame\n",
    "pygame.mixer.init() #Se inicia el constructor de sonido de pygame."
   ]
  },
  {
   "cell_type": "markdown",
   "id": "6154ce04",
   "metadata": {},
   "source": [
    "## Configuraciones"
   ]
  },
  {
   "cell_type": "code",
   "execution_count": null,
   "id": "72d1427e",
   "metadata": {},
   "outputs": [],
   "source": [
    "anchoPantalla=800  #Se crea una variable con el ancho de pantalla.\n",
    "altoPantalla=600   #Se crea una variable con el alto de pantalla.\n",
    "\n",
    "#Se crea la pantalla del juego.\n",
    "pantalla=pygame.display.set_mode((anchoPantalla,altoPantalla))\n",
    "pygame.display.set_caption(\"Cosmic Defenders\")\n",
    "\n",
    "#Se ingresa la imagen de inicio en la pantalla.\n",
    "pantallaDeInicio=pygame.image.load(\"Inicio-PrimerNivel.png\").convert()\n",
    "pantallaDeInicio=pygame.transform.scale(pantallaDeInicio,(800, 600))\n",
    "\n",
    "#Se ingresa el nombre del juego para mostrar en pantalla.\n",
    "fuenteTitulo=pygame.font.Font(\"Silkscreen-Bold.ttf\",50)\n",
    "textoTitulo=fuenteTitulo.render(\"Cosmic Defenders\",True, (0, 0, 0))\n",
    "textoRect1=textoTitulo.get_rect(center=(anchoPantalla // 2, altoPantalla // 6))\n",
    "\n",
    "#Se crea el botón de inicio del juego.\n",
    "fuenteBotones=pygame.font.Font(\"Silkscreen-Bold.ttf\", 40)\n",
    "textoInicio=fuenteBotones.render(\"INICIO\", True, (255, 255, 255))\n",
    "textoRect2=textoInicio.get_rect(center=(anchoPantalla // 2, altoPantalla // 1.5))\n",
    "inicio=pygame.Rect(textoRect2.left - 1, textoRect2.top - 1, textoRect2.width + 1, textoRect2.height + 1)\n",
    "\n",
    "#Se crea el botón de ajustes del juego.\n",
    "textoAjustes=fuenteBotones.render(\"AJUSTES\", True, (255, 255, 255))\n",
    "textoRect3=textoAjustes.get_rect(center=(anchoPantalla // 2, altoPantalla // 1.3))\n",
    "ajustes=pygame.Rect(textoRect3.left - 1, textoRect3.top - 1, textoRect3.width + 1, textoRect3.height + 1)\n",
    "\n",
    "#Se crea la variable con el sonido de fondo.\n",
    "musicaInicio=pygame.mixer.music.load(\"Himno Universidad de Santiago De Chile.mp3\")\n",
    "reproducirMusica=pygame.mixer.music.play(loops=1)"
   ]
  },
  {
   "cell_type": "markdown",
   "id": "97bef61d",
   "metadata": {},
   "source": [
    "## Funciones"
   ]
  },
  {
   "cell_type": "code",
   "execution_count": null,
   "id": "0354dad1",
   "metadata": {},
   "outputs": [],
   "source": [
    "  \n",
    "def pantallaAjustes():\n",
    "    pantalla.fill((0, 0, 0))  #Llenamos la pantalla de negro\n",
    "\n",
    "    #Se crea el botón de ajustar musica del juego.\n",
    "    fuenteAjustes=pygame.font.Font(\"Silkscreen-Bold.ttf\", 50)\n",
    "    textoMusica=fuenteAjustes.render(\"Musica\", True, (255, 255, 255))\n",
    "    textoRectMusica=textoMusica.get_rect(center=(anchoPantalla // 2, altoPantalla // 5))\n",
    "\n",
    "    #Se crea el botón de ajustar sonido del juego.\n",
    "    fuenteSonido=pygame.font.Font(\"Silkscreen-Bold.ttf\", 50)\n",
    "    textoSonido=fuenteSonido.render(\"Sonidos\", True, (255, 255, 255))\n",
    "    textoRectSonido=textoSonido.get_rect(center=(anchoPantalla // 2, altoPantalla // 2))\n",
    "\n",
    "    #Se crea el botón de salir de los ajustes.\n",
    "    fuenteSalir=pygame.font.Font(\"Silkscreen-Bold.ttf\", 50)\n",
    "    textoSalir=fuenteSalir.render(\"Salir\", True, (255, 255, 255))\n",
    "    textoRectSalir=textoSalir.get_rect(center=(anchoPantalla // 2, altoPantalla // 1.3))\n",
    "\n",
    "    #Se muestran los botones en pantalla.\n",
    "    pantalla.blit(textoMusica,textoRectMusica)\n",
    "    pantalla.blit(textoSonido,textoRectSonido)\n",
    "    pantalla.blit(textoSalir,textoRectSalir)\n",
    "\n",
    "    return textoRectSalir\n",
    "\n",
    "def pantallaPrimerNivel():\n",
    "    #Se ingresa la imagen de inicio en la pantalla.\n",
    "    pantallaPrimerNivel=pygame.image.load(\"Inicio-PrimerNivel.png\").convert()\n",
    "    pantallaPrimerNivel=pygame.transform.scale(pantallaPrimerNivel, (800, 600))\n",
    "    mostrar_puntaje(pantalla, 0)  # Se muestra el puntaje\n",
    "\n",
    "    #Se muestra la pantalla del primer nivel.\n",
    "    pantalla.blit(pantallaPrimerNivel,(0,0))\n",
    "    pygame.display.update()  # Se actualiza la pantalla\n",
    "    \n",
    "#Funcion para mostrar puntaje, luego actualizar para mostrar puntajes nuevos\n",
    "def mostrar_puntaje(pantalla, puntuacion):\n",
    "    fuente = pygame.font.Font(None, 36)\n",
    "    texto = fuente.render(f\"Puntuación: {puntuacion}\", True, (255, 255, 255))\n",
    "    pantalla.blit(texto, (10, 10))"
   ]
  },
  {
   "cell_type": "markdown",
   "id": "73396c4e",
   "metadata": {},
   "source": [
    "## Clases"
   ]
  },
  {
   "cell_type": "code",
   "execution_count": null,
   "id": "969b7cd9",
   "metadata": {},
   "outputs": [],
   "source": [
    "# Se crea la clase Jugador\n",
    "class Jugador(pygame.sprite.Sprite):\n",
    "    def __init__(self):\n",
    "        super().__init__()  # Se solicita los datos a la clase madre Sprite\n",
    "        self.imagen=pygame.image.load(\"Nave.png\").convert_alpha()  # Se carga la imagen de la nave\n",
    "        self.imagen=pygame.transform.scale(self.imagen,(50, 50))\n",
    "        self.rect=self.imagen.get_rect()\n",
    "        self.rect.center=(anchoPantalla//2,altoPantalla-50) \n",
    "        self.velocidad=5  # Se crea la velocidad que tendra la nave\n",
    "\n",
    "    def mover(self,teclas):\n",
    "        # Se mueve la nave de izquierda a derecha a traves de teclas indicadas abajo\n",
    "        if teclas[pygame.K_LEFT] and self.rect.left>0: \n",
    "            self.rect.x-=self.velocidad\n",
    "        if teclas[pygame.K_RIGHT] and self.rect.right<anchoPantalla: \n",
    "            self.rect.x+=self.velocidad\n",
    "\n",
    "    def Aparicion(self,pantalla):\n",
    "        # Se muestra a la nave en pantalla\n",
    "        pantalla.blit(self.imagen,self.rect)\n",
    "# Se crea una instancia de la clase Nave\n",
    "nave=Jugador()"
   ]
  },
  {
   "cell_type": "markdown",
   "id": "f81851ab",
   "metadata": {},
   "source": [
    "## Ejecucion"
   ]
  },
  {
   "cell_type": "code",
   "execution_count": null,
   "id": "7605d93b-05dd-4960-9f9d-0ad1927a03e6",
   "metadata": {},
   "outputs": [],
   "source": [
    "# Se hace un ciclo para ejecutar el juego.\n",
    "ejecucion=True  # Variable para terminar la ejecución.\n",
    "ingresarAjustes=False #Variable para entrar a ajustes.\n",
    "inicioJuego=False #Variable para entrar al primer nivel.\n",
    "while ejecucion:\n",
    "    for opcionesJuego in pygame.event.get():\n",
    "        if opcionesJuego.type==pygame.QUIT:  #Si se presiona la salida de la pestaña de juego, se termina la ejecución.\n",
    "            ejecucion=False\n",
    "            \n",
    "        if opcionesJuego.type==pygame.MOUSEBUTTONDOWN:\n",
    "            if ajustes.collidepoint(opcionesJuego.pos):  #Si se hace clic en el botón de ajustes.\n",
    "                ingresarAjustes=True  #Cambiamos a pantalla de ajustes.\n",
    "                \n",
    "            if inicio.collidepoint(opcionesJuego.pos): #Si se hace clic en el botón de inicio.\n",
    "                inicioJuego=True #Cambiamos a pantalla de primer nivel.\n",
    "                \n",
    "    if inicioJuego:\n",
    "        pantallaPrimerNivel() #Mostramos la pantalla del primer nivel.\n",
    "        teclas = pygame.key.get_pressed()  # Obtenemos las teclas presionadas\n",
    "        nave.mover(pygame.key.get_pressed())  # Movemos al jugador según las teclas presionadas\n",
    "        nave.Aparicion(pantalla)  # Mostramos la pantalla del primer nivel\n",
    "\n",
    "        pygame.display.flip()  # Se actualiza la pantalla\n",
    "        for opcionesInicio in pygame.event.get():\n",
    "            if opcionesInicio.type == pygame.QUIT:  #Si se presiona la salida de la pestaña de juego, se termina la ejecución.\n",
    "                ejecucion=False      \n",
    "\n",
    "    if ingresarAjustes:\n",
    "        pantallaAjustes()  #Mostramos la pantalla de ajustes.\n",
    "        pygame.display.update() # Se actualiza la pantalla.\n",
    "        salirAjustes=pantallaAjustes()\n",
    "        \n",
    "        for opcionesAjustes in pygame.event.get():\n",
    "            if opcionesAjustes.type==pygame.QUIT:  #Si se presiona la salida de la pestaña de juego, se termina la ejecución.\n",
    "                ejecucion=False\n",
    "                \n",
    "            if opcionesAjustes.type==pygame.MOUSEBUTTONDOWN:\n",
    "                if salirAjustes.collidepoint(opcionesAjustes.pos): #Si se presiona la salida de los ajustes, se vuelve a la pantalla de inicio.\n",
    "                    ingresarAjustes=False\n",
    "            \n",
    "    if not ingresarAjustes and not inicioJuego:\n",
    "        #Si no estamos en ajustes, mostramos la pantalla inicial.\n",
    "        pantalla.blit(pantallaDeInicio, [0, 0])\n",
    "        pantalla.blit(textoTitulo, textoRect1)\n",
    "\n",
    "        pygame.draw.rect(pantalla, (160, 32, 240), inicio)  #Botón de INICIO.\n",
    "        pantalla.blit(textoInicio, textoRect2)\n",
    "\n",
    "        pygame.draw.rect(pantalla, (160, 32, 240), ajustes)  #Botón de AJUSTES.\n",
    "        pantalla.blit(textoAjustes, textoRect3)\n",
    "\n",
    "    pygame.display.flip()  #Actualizamos la pantalla.\n",
    "\n",
    "pygame.quit()"
   ]
  },
  {
   "cell_type": "code",
   "execution_count": null,
   "id": "bbc1ad16-b45e-48a3-bb03-e0fac693c33c",
   "metadata": {},
   "outputs": [],
   "source": []
  }
 ],
 "metadata": {
  "kernelspec": {
   "display_name": "Python 3",
   "language": "python",
   "name": "python3"
  },
  "language_info": {
   "codemirror_mode": {
    "name": "ipython",
    "version": 3
   },
   "file_extension": ".py",
   "mimetype": "text/x-python",
   "name": "python",
   "nbconvert_exporter": "python",
   "pygments_lexer": "ipython3",
   "version": "3.12.4"
  }
 },
 "nbformat": 4,
 "nbformat_minor": 5
}
